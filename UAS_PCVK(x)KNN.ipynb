{
  "nbformat": 4,
  "nbformat_minor": 0,
  "metadata": {
    "colab": {
      "name": "UAS_PCVK(x)KNN.ipynb",
      "provenance": [],
      "authorship_tag": "ABX9TyNqZp+5vRV4ImnDr4xsLEj4",
      "include_colab_link": true
    },
    "kernelspec": {
      "name": "python3",
      "display_name": "Python 3"
    },
    "language_info": {
      "name": "python"
    }
  },
  "cells": [
    {
      "cell_type": "markdown",
      "metadata": {
        "id": "view-in-github",
        "colab_type": "text"
      },
      "source": [
        "<a href=\"https://colab.research.google.com/github/MuhammadRezaPehlevi0218/PCVK_Genap_2022/blob/main/UAS_PCVK(x)KNN.ipynb\" target=\"_parent\"><img src=\"https://colab.research.google.com/assets/colab-badge.svg\" alt=\"Open In Colab\"/></a>"
      ]
    },
    {
      "cell_type": "code",
      "execution_count": 2,
      "metadata": {
        "colab": {
          "base_uri": "https://localhost:8080/"
        },
        "id": "NdJHB5aGvL_U",
        "outputId": "8d9b64c5-1afd-453a-baac-d6cc702dcba0"
      },
      "outputs": [
        {
          "output_type": "stream",
          "name": "stdout",
          "text": [
            "Mounted at /content/drive\n"
          ]
        }
      ],
      "source": [
        "import cv2 as cv\n",
        "import numpy as np\n",
        "from matplotlib import pyplot as plt\n",
        "import pandas as pd\n",
        "from google.colab import drive\n",
        "drive.mount('/content/drive')"
      ]
    },
    {
      "cell_type": "code",
      "source": [
        "input_img = cv.imread('/content/drive/MyDrive/Kuliah/Semester 6/PCVK/Final_Project/Leaf Images 03/Acer_Rufinerve/Acer_Rufinerve_03.ab.jpg') \n",
        "imRGB=cv.cvtColor(input_img,cv.COLOR_BGR2RGB)\n",
        "px=imRGB[400,400]\n",
        "print(px)\n",
        "plt.imshow(imRGB)"
      ],
      "metadata": {
        "colab": {
          "base_uri": "https://localhost:8080/",
          "height": 304
        },
        "id": "AlRbP676vWT1",
        "outputId": "67447ee9-677c-443d-de17-5709c1652f4f"
      },
      "execution_count": 3,
      "outputs": [
        {
          "output_type": "stream",
          "name": "stdout",
          "text": [
            "[255 255 255]\n"
          ]
        },
        {
          "output_type": "execute_result",
          "data": {
            "text/plain": [
              "<matplotlib.image.AxesImage at 0x7f9eb44b5f50>"
            ]
          },
          "metadata": {},
          "execution_count": 3
        },
        {
          "output_type": "display_data",
          "data": {
            "text/plain": [
              "<Figure size 432x288 with 1 Axes>"
            ],
            "image/png": "[encoded data removed]"
          },
          "metadata": {
            "needs_background": "light"
          }
        }
      ]
    },
    {
      "cell_type": "code",
      "source": [
        "yaxis=0\n",
        "xaxis=0\n",
        "for y in range(imRGB.shape[0]):\n",
        "  for x in range(imRGB.shape[1]):\n",
        "    cl=imRGB[y,x]\n",
        "    xaxis=x\n",
        "    if np.array_equal(cl,px):\n",
        "      break\n",
        "  yaxis=y\n",
        "  if np.array_equal(cl,px):\n",
        "      break\n",
        "print('titik putih paling atas ditemukan pada titik: (y,x)(',yaxis,',',xaxis,')')"
      ],
      "metadata": {
        "colab": {
          "base_uri": "https://localhost:8080/"
        },
        "id": "wsdx9E9qyT2D",
        "outputId": "19d5a67d-0065-4cbc-aa84-27d3cb3217d3"
      },
      "execution_count": 4,
      "outputs": [
        {
          "output_type": "stream",
          "name": "stdout",
          "text": [
            "titik putih paling atas ditemukan pada titik: (y,x)( 33 , 310 )\n"
          ]
        }
      ]
    },
    {
      "cell_type": "code",
      "source": [
        "ayaxis=0\n",
        "axaxis=0\n",
        "for x in range(imRGB.shape[1]):\n",
        "  ayaxis=0\n",
        "  for y in range(imRGB.shape[0]):\n",
        "    cl=imRGB[y,x]\n",
        "    ayaxis=y\n",
        "    if np.array_equal(cl,px):\n",
        "      break\n",
        "  axaxis=x\n",
        "  if np.array_equal(cl,px):\n",
        "      break\n",
        "print('titik putih paling kiri ditemukan pada titik: (y,x)(',ayaxis,',',axaxis,')')"
      ],
      "metadata": {
        "colab": {
          "base_uri": "https://localhost:8080/"
        },
        "id": "dPcT-Ter0VNR",
        "outputId": "a2a0195c-2865-4691-ac93-dfa3e356978d"
      },
      "execution_count": 5,
      "outputs": [
        {
          "output_type": "stream",
          "name": "stdout",
          "text": [
            "titik putih paling kiri ditemukan pada titik: (y,x)( 388 , 31 )\n"
          ]
        }
      ]
    },
    {
      "cell_type": "code",
      "source": [
        "height,width=imRGB.shape[0],imRGB.shape[1]\n",
        "print(height,width)\n",
        "plt.imshow(imRGB)"
      ],
      "metadata": {
        "colab": {
          "base_uri": "https://localhost:8080/",
          "height": 304
        },
        "id": "FHBudqwL8Yh-",
        "outputId": "af786e23-ebff-4fc9-bde7-e8c379d771ff"
      },
      "execution_count": 6,
      "outputs": [
        {
          "output_type": "stream",
          "name": "stdout",
          "text": [
            "792 733\n"
          ]
        },
        {
          "output_type": "execute_result",
          "data": {
            "text/plain": [
              "<matplotlib.image.AxesImage at 0x7f9eb3fde6d0>"
            ]
          },
          "metadata": {},
          "execution_count": 6
        },
        {
          "output_type": "display_data",
          "data": {
            "text/plain": [
              "<Figure size 432x288 with 1 Axes>"
            ],
            "image/png": "[encoded data removed]"
          },
          "metadata": {
            "needs_background": "light"
          }
        }
      ]
    },
    {
      "cell_type": "code",
      "source": [
        "stopindex=0\n",
        "step=-1\n",
        "xaxis1=0\n",
        "yaxis1=0\n",
        "axaxis1=0\n",
        "ayaxis1=0\n",
        "for i in range(height, stopindex, step):\n",
        "  for j in range(width, stopindex, step):\n",
        "    cl=imRGB[i-1,j-1]\n",
        "    if np.array_equal(cl,px):\n",
        "      xaxis1=j\n",
        "      break\n",
        "  if np.array_equal(cl,px):\n",
        "      yaxis1=i\n",
        "      break\n",
        "print('titik putih paling bawah dari gambar:',yaxis1,',',xaxis1)"
      ],
      "metadata": {
        "colab": {
          "base_uri": "https://localhost:8080/"
        },
        "id": "WEmwF-v2B8sY",
        "outputId": "035cc524-884d-4a9a-e541-4cf1b1d5aa12"
      },
      "execution_count": 7,
      "outputs": [
        {
          "output_type": "stream",
          "name": "stdout",
          "text": [
            "titik putih paling bawah dari gambar: 761 , 353\n"
          ]
        }
      ]
    },
    {
      "cell_type": "code",
      "source": [
        "for i in range(width, stopindex, step):\n",
        "  for j in range(height, stopindex, step):\n",
        "    cl=imRGB[j-1,i-1]\n",
        "    if np.array_equal(cl,px):\n",
        "      ayaxis1=j\n",
        "      break\n",
        "  if np.array_equal(cl,px):\n",
        "      axaxis1=i\n",
        "      break\n",
        "print('titik putih paling kanan dari gambar:',ayaxis1,',',axaxis1)"
      ],
      "metadata": {
        "colab": {
          "base_uri": "https://localhost:8080/"
        },
        "id": "7MvI25NhOkqM",
        "outputId": "84276ff2-e18f-4946-fc34-5ad005aeaf0a"
      },
      "execution_count": 8,
      "outputs": [
        {
          "output_type": "stream",
          "name": "stdout",
          "text": [
            "titik putih paling kanan dari gambar: 393 , 702\n"
          ]
        }
      ]
    },
    {
      "cell_type": "code",
      "source": [
        "print('titik putih paling atas ditemukan pada titik: (y,x)(',yaxis,',',xaxis,')')\n",
        "print('titik putih paling kiri ditemukan pada titik: (y,x)(',ayaxis,',',axaxis,')')\n",
        "print('titik putih paling bawah dari gambar:',yaxis1,',',xaxis1)\n",
        "print('titik putih paling kanan dari gambar:',ayaxis1,',',axaxis1)"
      ],
      "metadata": {
        "colab": {
          "base_uri": "https://localhost:8080/"
        },
        "id": "nYuxHLb_RK7L",
        "outputId": "531fea9d-a73b-45f6-853e-3eb49e2f71e8"
      },
      "execution_count": 9,
      "outputs": [
        {
          "output_type": "stream",
          "name": "stdout",
          "text": [
            "titik putih paling atas ditemukan pada titik: (y,x)( 33 , 310 )\n",
            "titik putih paling kiri ditemukan pada titik: (y,x)( 388 , 31 )\n",
            "titik putih paling bawah dari gambar: 761 , 353\n",
            "titik putih paling kanan dari gambar: 393 , 702\n"
          ]
        }
      ]
    },
    {
      "cell_type": "code",
      "source": [
        "tinggi=yaxis1-yaxis\n",
        "lebar=axaxis1-axaxis\n",
        "print(tinggi,',',lebar)"
      ],
      "metadata": {
        "colab": {
          "base_uri": "https://localhost:8080/"
        },
        "id": "w5Ta7_HkRyFe",
        "outputId": "269c6e32-780a-4cc6-c86c-37b597a8ffe5"
      },
      "execution_count": 10,
      "outputs": [
        {
          "output_type": "stream",
          "name": "stdout",
          "text": [
            "728 , 671\n"
          ]
        }
      ]
    },
    {
      "cell_type": "code",
      "source": [
        "import os\n",
        "from skimage.io import imshow, imread\n",
        "pathAC=os.listdir('/content/drive/MyDrive/Kuliah/Semester 6/PCVK/Final_Project/Leaf Images 03/Acer_Rufinerve')\n",
        "pathAL=os.listdir('/content/drive/MyDrive/Kuliah/Semester 6/PCVK/Final_Project/Leaf Images 03/Alnus_Rubra')\n",
        "pathCA=os.listdir('/content/drive/MyDrive/Kuliah/Semester 6/PCVK/Final_Project/Leaf Images 03/Callicarpa_Bodinieri')\n",
        "\n",
        "ac=-1\n",
        "datasetAC=pathAC[ac]\n",
        "imgAC=cv.imread('/content/drive/MyDrive/Kuliah/Semester 6/PCVK/Final_Project/Leaf Images 03/Acer_Rufinerve/'+datasetAC)\n",
        "gray_img = cv.cvtColor(imgAC, cv.COLOR_BGR2GRAY)\n",
        "\n",
        "corners = cv.goodFeaturesToTrack(gray_img, 1000,0.01,10) \n",
        "corners = np. int0(corners)\n",
        "\n",
        "imshow(imgAC)"
      ],
      "metadata": {
        "colab": {
          "base_uri": "https://localhost:8080/",
          "height": 314
        },
        "id": "b2ao5svETw0n",
        "outputId": "0996502b-f324-49d9-adfc-f53e183fdf79"
      },
      "execution_count": 11,
      "outputs": [
        {
          "output_type": "execute_result",
          "data": {
            "text/plain": [
              "<matplotlib.image.AxesImage at 0x7f9ea975aa90>"
            ]
          },
          "metadata": {},
          "execution_count": 11
        },
        {
          "output_type": "display_data",
          "data": {
            "text/plain": [
              "<Figure size 432x288 with 1 Axes>"
            ],
            "image/png": "[encoded data removed]"
          },
          "metadata": {
            "needs_background": "light"
          }
        }
      ]
    },
    {
      "cell_type": "code",
      "source": [
        "count1=0\n",
        "count2=-1\n",
        "yaxis=0\n",
        "xaxis=0\n",
        "ayaxis=0\n",
        "axaxis=0\n",
        "stopindex=0\n",
        "step=-1\n",
        "xaxis1=0\n",
        "yaxis1=0\n",
        "axaxis1=0\n",
        "ayaxis1=0\n",
        "nilaidatasetAC1=[0,0,0,0,0,0,0,0,0,0,0,0,0,0,0,0]\n",
        "nilaidatasetAC2=[0,0,0,0,0,0,0,0,0,0,0,0,0,0,0,0]\n",
        "nilaidatasetAC3=[0,0,0,0,0,0,0,0,0,0,0,0,0,0,0,0]\n",
        "for ac in datasetAC:\n",
        "  datasetAC=pathAC[count2]\n",
        "  if count1<16:\n",
        "    imgAC=cv.imread('/content/drive/MyDrive/Kuliah/Semester 6/PCVK/Final_Project/Leaf Images 03/Acer_Rufinerve/'+datasetAC)\n",
        "    gray_img = cv.cvtColor(imgAC, cv.COLOR_BGR2GRAY)\n",
        "    corners = cv.goodFeaturesToTrack(gray_img, 1000,0.01,10) \n",
        "    corners = np. int0(corners)\n",
        "    count=0\n",
        "    for i in corners:\n",
        "      count=count+1\n",
        "      x,y = i.ravel() \n",
        "      cv.circle(imgAC, (x,y),3,255,2)\n",
        "    nilaidatasetAC1[count1]=count\n",
        "    count1=count1+1\n",
        "    count2=count2+1\n",
        "\n",
        "print('jumlah titik pada setiap gambar daun Acer_Rufinerve: ',nilaidatasetAC1)"
      ],
      "metadata": {
        "colab": {
          "base_uri": "https://localhost:8080/"
        },
        "id": "QsLpXupiU3O8",
        "outputId": "e62e3763-d075-4cb8-98e2-7ec7aa49f5cc"
      },
      "execution_count": 12,
      "outputs": [
        {
          "output_type": "stream",
          "name": "stdout",
          "text": [
            "jumlah titik pada setiap gambar daun Acer_Rufinerve:  [191, 175, 172, 134, 153, 167, 177, 183, 180, 181, 157, 185, 158, 185, 157, 156]\n"
          ]
        }
      ]
    },
    {
      "cell_type": "code",
      "source": [
        "count1=0\n",
        "count2=-1\n",
        "for ac in datasetAC:\n",
        "  datasetAC=pathAC[count2]\n",
        "  if count1<16:\n",
        "    imgAC=cv.imread('/content/drive/MyDrive/Kuliah/Semester 6/PCVK/Final_Project/Leaf Images 03/Acer_Rufinerve/'+datasetAC)\n",
        "    gray_img = cv.cvtColor(imgAC, cv.COLOR_BGR2GRAY)\n",
        "    for y in range(imgAC.shape[0]):\n",
        "      for x in range(imgAC.shape[1]):\n",
        "        cl=imgAC[y,x]\n",
        "        xaxis=x\n",
        "        if np.array_equal(cl,px):\n",
        "          break\n",
        "      yaxis=y\n",
        "      if np.array_equal(cl,px):\n",
        "          break\n",
        "    height,width=imgAC.shape[0],imgAC.shape[1]\n",
        "    for i in range(height, stopindex, step):\n",
        "      for j in range(width, stopindex, step):\n",
        "        cl=imgAC[i-1,j-1]\n",
        "        if np.array_equal(cl,px):\n",
        "          xaxis1=j\n",
        "          break\n",
        "      if np.array_equal(cl,px):\n",
        "          yaxis1=i\n",
        "          break\n",
        "    # print('titik putih paling bawah dari gambar:',yaxis1)\n",
        "    # print('titik putih paling atas dari gambar :',yaxis)\n",
        "    # print('            tinggi daun             :',yaxis1-yaxis)\n",
        "    nilaidatasetAC2[count1]=yaxis1-yaxis\n",
        "    count1=count1+1\n",
        "    count2=count2+1\n",
        "    # print(count1)\n",
        "print('tinggi pada setiap gambar daun Acer_Rufinerve: ',nilaidatasetAC2)"
      ],
      "metadata": {
        "colab": {
          "base_uri": "https://localhost:8080/"
        },
        "id": "znBG1gbp1L1a",
        "outputId": "21124728-3b31-4102-9f8c-c81723fb507f"
      },
      "execution_count": 13,
      "outputs": [
        {
          "output_type": "stream",
          "name": "stdout",
          "text": [
            "tinggi pada setiap gambar daun Acer_Rufinerve:  [866, 699, 728, 613, 692, 744, 806, 810, 769, 745, 705, 771, 743, 734, 734, 699]\n"
          ]
        }
      ]
    },
    {
      "cell_type": "code",
      "source": [
        "count1=0\n",
        "count2=-1\n",
        "for ac in datasetAC:\n",
        "  datasetAC=pathAC[count2]\n",
        "  if count1<16:\n",
        "    imgAC=cv.imread('/content/drive/MyDrive/Kuliah/Semester 6/PCVK/Final_Project/Leaf Images 03/Acer_Rufinerve/'+datasetAC)\n",
        "    gray_img = cv.cvtColor(imgAC, cv.COLOR_BGR2GRAY)\n",
        "    for y in range(imgAC.shape[1]):\n",
        "      for x in range(imgAC.shape[0]):\n",
        "        cl=imgAC[x,y]\n",
        "        xaxis=x\n",
        "        if np.array_equal(cl,px):\n",
        "          break\n",
        "      yaxis=y\n",
        "      if np.array_equal(cl,px):\n",
        "          break\n",
        "    height,width=imgAC.shape[0],imgAC.shape[1]\n",
        "    for i in range(width, stopindex, step):\n",
        "      for j in range(height, stopindex, step):\n",
        "        cl=imgAC[j-1,i-1]\n",
        "        if np.array_equal(cl,px):\n",
        "          xaxis1=j\n",
        "          break\n",
        "      if np.array_equal(cl,px):\n",
        "          yaxis1=i\n",
        "          break\n",
        "    # print('titik putih paling bawah dari gambar:',yaxis1)\n",
        "    # print('titik putih paling atas dari gambar :',yaxis)\n",
        "    # print('            tinggi daun             :',yaxis1-yaxis)\n",
        "    nilaidatasetAC3[count1]=yaxis1-yaxis\n",
        "    count1=count1+1\n",
        "    count2=count2+1\n",
        "    # print(count1)\n",
        "print('lebar pada setiap gambar daun Acer_Rufinerve: ',nilaidatasetAC3)"
      ],
      "metadata": {
        "colab": {
          "base_uri": "https://localhost:8080/"
        },
        "id": "YnD_VmDn654m",
        "outputId": "8621cf02-7a6c-4719-db76-a301bf2c7016"
      },
      "execution_count": 14,
      "outputs": [
        {
          "output_type": "stream",
          "name": "stdout",
          "text": [
            "lebar pada setiap gambar daun Acer_Rufinerve:  [751, 744, 671, 539, 617, 673, 693, 730, 764, 756, 633, 740, 621, 722, 618, 621]\n"
          ]
        }
      ]
    },
    {
      "cell_type": "code",
      "source": [
        "print('jumlah titik pada setiap gambar daun Acer_Rufinerve: ',nilaidatasetAC1)\n",
        "print('tinggi pada setiap gambar daun Acer_Rufinerve: ',nilaidatasetAC2)\n",
        "print('lebar pada setiap gambar daun Acer_Rufinerve: ',nilaidatasetAC3)"
      ],
      "metadata": {
        "colab": {
          "base_uri": "https://localhost:8080/"
        },
        "id": "wAUFd03p8stz",
        "outputId": "ce5933a0-89d7-47de-d470-3cba8ecec0cb"
      },
      "execution_count": 15,
      "outputs": [
        {
          "output_type": "stream",
          "name": "stdout",
          "text": [
            "jumlah titik pada setiap gambar daun Acer_Rufinerve:  [191, 175, 172, 134, 153, 167, 177, 183, 180, 181, 157, 185, 158, 185, 157, 156]\n",
            "tinggi pada setiap gambar daun Acer_Rufinerve:  [866, 699, 728, 613, 692, 744, 806, 810, 769, 745, 705, 771, 743, 734, 734, 699]\n",
            "lebar pada setiap gambar daun Acer_Rufinerve:  [751, 744, 671, 539, 617, 673, 693, 730, 764, 756, 633, 740, 621, 722, 618, 621]\n"
          ]
        }
      ]
    },
    {
      "cell_type": "code",
      "source": [
        "dtsetAC = np.stack((nilaidatasetAC1, nilaidatasetAC2,nilaidatasetAC3), axis=1)\n",
        "df=pd.DataFrame(dtsetAC, columns=['jumlah titik','tinggi daun','jumlah'])\n",
        "print('Data set yang digunakan pada daun Acer_Rufinerve\\n')\n",
        "print(df)"
      ],
      "metadata": {
        "colab": {
          "base_uri": "https://localhost:8080/"
        },
        "id": "EvmnAXlPNbYj",
        "outputId": "d78e8204-4c2d-4ce9-92b4-9afb09a5f503"
      },
      "execution_count": 16,
      "outputs": [
        {
          "output_type": "stream",
          "name": "stdout",
          "text": [
            "Data set yang digunakan pada daun Acer_Rufinerve\n",
            "\n",
            "    jumlah titik  tinggi daun  jumlah\n",
            "0            191          866     751\n",
            "1            175          699     744\n",
            "2            172          728     671\n",
            "3            134          613     539\n",
            "4            153          692     617\n",
            "5            167          744     673\n",
            "6            177          806     693\n",
            "7            183          810     730\n",
            "8            180          769     764\n",
            "9            181          745     756\n",
            "10           157          705     633\n",
            "11           185          771     740\n",
            "12           158          743     621\n",
            "13           185          734     722\n",
            "14           157          734     618\n",
            "15           156          699     621\n"
          ]
        }
      ]
    },
    {
      "cell_type": "code",
      "source": [
        "count1=0\n",
        "count2=-1\n",
        "yaxis=0\n",
        "xaxis=0\n",
        "ayaxis=0\n",
        "axaxis=0\n",
        "stopindex=0\n",
        "step=-1\n",
        "xaxis1=0\n",
        "yaxis1=0\n",
        "axaxis1=0\n",
        "ayaxis1=0\n",
        "nilaidatasetCA1=[0,0,0,0,0,0,0,0,0,0,0,0,0,0,0,0]\n",
        "nilaidatasetCA2=[0,0,0,0,0,0,0,0,0,0,0,0,0,0,0,0]\n",
        "nilaidatasetCA3=[0,0,0,0,0,0,0,0,0,0,0,0,0,0,0,0]\n",
        "for ac in datasetAC:\n",
        "  datasetAC=pathAL[count2]\n",
        "  if count1<16:\n",
        "    imgCA=cv.imread('/content/drive/MyDrive/Kuliah/Semester 6/PCVK/Final_Project/Leaf Images 03/Alnus_Rubra/'+datasetAC)\n",
        "    gray_img = cv.cvtColor(imgCA, cv.COLOR_BGR2GRAY)\n",
        "    corners = cv.goodFeaturesToTrack(gray_img, 1000,0.01,10) \n",
        "    corners = np. int0(corners)\n",
        "    count=0\n",
        "    for i in corners:\n",
        "      count=count+1\n",
        "      x,y = i.ravel() \n",
        "      cv.circle(imgCA, (x,y),3,255,2)\n",
        "    nilaidatasetCA1[count1]=count\n",
        "    count1=count1+1\n",
        "    count2=count2+1\n",
        "print('jumlah titik pada setiap gambar daun Alnus_Rubra: ',nilaidatasetCA1)"
      ],
      "metadata": {
        "colab": {
          "base_uri": "https://localhost:8080/"
        },
        "id": "P28zMErnOV34",
        "outputId": "5819c562-66be-4909-ced1-abc8300c70f5"
      },
      "execution_count": 17,
      "outputs": [
        {
          "output_type": "stream",
          "name": "stdout",
          "text": [
            "jumlah titik pada setiap gambar daun Alnus_Rubra:  [132, 140, 138, 134, 133, 143, 126, 154, 119, 141, 133, 177, 129, 153, 145, 120]\n"
          ]
        }
      ]
    },
    {
      "cell_type": "code",
      "source": [
        "count1=0\n",
        "count2=-1\n",
        "for ac in datasetAC:\n",
        "  datasetAC=pathAL[count2]\n",
        "  if count1<16:\n",
        "    imgAC=cv.imread('/content/drive/MyDrive/Kuliah/Semester 6/PCVK/Final_Project/Leaf Images 03/Alnus_Rubra/'+datasetAC)\n",
        "    gray_img = cv.cvtColor(imgAC, cv.COLOR_BGR2GRAY)\n",
        "    for y in range(imgAC.shape[0]):\n",
        "      for x in range(imgAC.shape[1]):\n",
        "        cl=imgAC[y,x]\n",
        "        xaxis=x\n",
        "        if np.array_equal(cl,px):\n",
        "          break\n",
        "      yaxis=y\n",
        "      if np.array_equal(cl,px):\n",
        "          break\n",
        "    height,width=imgAC.shape[0],imgAC.shape[1]\n",
        "    for i in range(height, stopindex, step):\n",
        "      for j in range(width, stopindex, step):\n",
        "        cl=imgAC[i-1,j-1]\n",
        "        if np.array_equal(cl,px):\n",
        "          xaxis1=j\n",
        "          break\n",
        "      if np.array_equal(cl,px):\n",
        "          yaxis1=i\n",
        "          break\n",
        "    # print('titik putih paling bawah dari gambar:',yaxis1)\n",
        "    # print('titik putih paling atas dari gambar :',yaxis)\n",
        "    # print('            tinggi daun             :',yaxis1-yaxis)\n",
        "    nilaidatasetCA2[count1]=yaxis1-yaxis\n",
        "    count1=count1+1\n",
        "    count2=count2+1\n",
        "    # print(count1)\n",
        "print('tinggi pada setiap gambar daun Alnus_Rubra: ',nilaidatasetCA2)"
      ],
      "metadata": {
        "colab": {
          "base_uri": "https://localhost:8080/"
        },
        "id": "fSx4CNY3SZF3",
        "outputId": "32eb2baf-f374-4e8e-9b4a-0115d060cca0"
      },
      "execution_count": 18,
      "outputs": [
        {
          "output_type": "stream",
          "name": "stdout",
          "text": [
            "tinggi pada setiap gambar daun Alnus_Rubra:  [754, 687, 674, 639, 642, 673, 638, 719, 612, 728, 748, 873, 667, 794, 752, 631]\n"
          ]
        }
      ]
    },
    {
      "cell_type": "code",
      "source": [
        "count1=0\n",
        "count2=-1\n",
        "for ac in datasetAC:\n",
        "  datasetAC=pathAL[count2]\n",
        "  if count1<16:\n",
        "    imgAC=cv.imread('/content/drive/MyDrive/Kuliah/Semester 6/PCVK/Final_Project/Leaf Images 03/Alnus_Rubra/'+datasetAC)\n",
        "    gray_img = cv.cvtColor(imgAC, cv.COLOR_BGR2GRAY)\n",
        "    for y in range(imgAC.shape[1]):\n",
        "      for x in range(imgAC.shape[0]):\n",
        "        cl=imgAC[x,y]\n",
        "        xaxis=x\n",
        "        if np.array_equal(cl,px):\n",
        "          break\n",
        "      yaxis=y\n",
        "      if np.array_equal(cl,px):\n",
        "          break\n",
        "    height,width=imgAC.shape[0],imgAC.shape[1]\n",
        "    for i in range(width, stopindex, step):\n",
        "      for j in range(height, stopindex, step):\n",
        "        cl=imgAC[j-1,i-1]\n",
        "        if np.array_equal(cl,px):\n",
        "          xaxis1=j\n",
        "          break\n",
        "      if np.array_equal(cl,px):\n",
        "          yaxis1=i\n",
        "          break\n",
        "    # print('titik putih paling bawah dari gambar:',yaxis1)\n",
        "    # print('titik putih paling atas dari gambar :',yaxis)\n",
        "    # print('            tinggi daun             :',yaxis1-yaxis)\n",
        "    nilaidatasetCA3[count1]=yaxis1-yaxis\n",
        "    count1=count1+1\n",
        "    count2=count2+1\n",
        "    # print(count1)\n",
        "print('lebar pada setiap gambar daun Alnus_Rubra: ',nilaidatasetCA3)"
      ],
      "metadata": {
        "colab": {
          "base_uri": "https://localhost:8080/"
        },
        "id": "fTXD7RDWTDr-",
        "outputId": "a32b42fe-d00f-4207-af8a-489b65f18bf3"
      },
      "execution_count": 19,
      "outputs": [
        {
          "output_type": "stream",
          "name": "stdout",
          "text": [
            "lebar pada setiap gambar daun Alnus_Rubra:  [462, 461, 463, 496, 500, 506, 426, 519, 408, 499, 442, 561, 455, 541, 460, 449]\n"
          ]
        }
      ]
    },
    {
      "cell_type": "code",
      "source": [
        "print('jumlah titik pada setiap gambar daun Alnus_Rubra: ',nilaidatasetCA1)\n",
        "print('tinggi pada setiap gambar daun Alnus_Rubra: ',nilaidatasetCA2)\n",
        "print('lebar pada setiap gambar daun Alnus_Rubra: ',nilaidatasetCA3)"
      ],
      "metadata": {
        "colab": {
          "base_uri": "https://localhost:8080/"
        },
        "id": "iCn5S536VmBo",
        "outputId": "728821ae-12e7-4f24-d71d-2c26c0a71998"
      },
      "execution_count": 20,
      "outputs": [
        {
          "output_type": "stream",
          "name": "stdout",
          "text": [
            "jumlah titik pada setiap gambar daun Alnus_Rubra:  [132, 140, 138, 134, 133, 143, 126, 154, 119, 141, 133, 177, 129, 153, 145, 120]\n",
            "tinggi pada setiap gambar daun Alnus_Rubra:  [754, 687, 674, 639, 642, 673, 638, 719, 612, 728, 748, 873, 667, 794, 752, 631]\n",
            "lebar pada setiap gambar daun Alnus_Rubra:  [462, 461, 463, 496, 500, 506, 426, 519, 408, 499, 442, 561, 455, 541, 460, 449]\n"
          ]
        }
      ]
    },
    {
      "cell_type": "code",
      "source": [
        "dtsetAC = np.stack((nilaidatasetCA1, nilaidatasetCA2,nilaidatasetAC2), axis=1)\n",
        "df=pd.DataFrame(dtsetAC, columns=['jumlah titik','tinggi daun','jumlah'])\n",
        "print('Data set yang digunakan pada daun Acer_Rufinerve\\n')\n",
        "print(df)"
      ],
      "metadata": {
        "colab": {
          "base_uri": "https://localhost:8080/"
        },
        "id": "Wi-D4HTKZbAm",
        "outputId": "5ba2f636-e405-4efc-ab23-4957457a9601"
      },
      "execution_count": 21,
      "outputs": [
        {
          "output_type": "stream",
          "name": "stdout",
          "text": [
            "Data set yang digunakan pada daun Acer_Rufinerve\n",
            "\n",
            "    jumlah titik  tinggi daun  jumlah\n",
            "0            132          754     866\n",
            "1            140          687     699\n",
            "2            138          674     728\n",
            "3            134          639     613\n",
            "4            133          642     692\n",
            "5            143          673     744\n",
            "6            126          638     806\n",
            "7            154          719     810\n",
            "8            119          612     769\n",
            "9            141          728     745\n",
            "10           133          748     705\n",
            "11           177          873     771\n",
            "12           129          667     743\n",
            "13           153          794     734\n",
            "14           145          752     734\n",
            "15           120          631     699\n"
          ]
        }
      ]
    },
    {
      "cell_type": "code",
      "source": [
        "count1=0\n",
        "count2=-1\n",
        "yaxis=0\n",
        "xaxis=0\n",
        "ayaxis=0\n",
        "axaxis=0\n",
        "stopindex=0\n",
        "step=-1\n",
        "xaxis1=0\n",
        "yaxis1=0\n",
        "axaxis1=0\n",
        "ayaxis1=0\n",
        "nilaidatasetCB1=[0,0,0,0,0,0,0,0,0,0,0,0,0,0,0,0]\n",
        "nilaidatasetCB2=[0,0,0,0,0,0,0,0,0,0,0,0,0,0,0,0]\n",
        "nilaidatasetCB3=[0,0,0,0,0,0,0,0,0,0,0,0,0,0,0,0]\n",
        "for ac in datasetAC:\n",
        "  datasetAC=pathCA[count2]\n",
        "  if count1<16:\n",
        "    imgBA=cv.imread('/content/drive/MyDrive/Kuliah/Semester 6/PCVK/Final_Project/Leaf Images 03/Callicarpa_Bodinieri/'+datasetAC)\n",
        "    gray_img = cv.cvtColor(imgBA, cv.COLOR_BGR2GRAY)\n",
        "    corners = cv.goodFeaturesToTrack(gray_img, 1000,0.01,10) \n",
        "    corners = np. int0(corners)\n",
        "    count=0\n",
        "    for i in corners:\n",
        "      count=count+1\n",
        "      x,y = i.ravel() \n",
        "      cv.circle(imgBA, (x,y),3,255,2)\n",
        "    nilaidatasetCB1[count1]=count\n",
        "    count1=count1+1\n",
        "    count2=count2+1\n",
        "print('jumlah titik pada setiap gambar daun Callicarpa_Bodinieri: ',nilaidatasetCB1)"
      ],
      "metadata": {
        "colab": {
          "base_uri": "https://localhost:8080/"
        },
        "id": "a3M-U24zWEC1",
        "outputId": "385509b8-7e53-46c9-c452-c1167e3faadb"
      },
      "execution_count": 22,
      "outputs": [
        {
          "output_type": "stream",
          "name": "stdout",
          "text": [
            "jumlah titik pada setiap gambar daun Callicarpa_Bodinieri:  [125, 118, 113, 120, 119, 132, 125, 122, 118, 124, 125, 118, 124, 122, 113, 129]\n"
          ]
        }
      ]
    },
    {
      "cell_type": "code",
      "source": [
        "count1=0\n",
        "count2=-1\n",
        "for ac in datasetAC:\n",
        "  datasetAC=pathCA[count2]\n",
        "  if count1<16:\n",
        "    imgAC=cv.imread('/content/drive/MyDrive/Kuliah/Semester 6/PCVK/Final_Project/Leaf Images 03/Callicarpa_Bodinieri/'+datasetAC)\n",
        "    gray_img = cv.cvtColor(imgAC, cv.COLOR_BGR2GRAY)\n",
        "    for y in range(imgAC.shape[0]):\n",
        "      for x in range(imgAC.shape[1]):\n",
        "        cl=imgAC[y,x]\n",
        "        xaxis=x\n",
        "        if np.array_equal(cl,px):\n",
        "          break\n",
        "      yaxis=y\n",
        "      if np.array_equal(cl,px):\n",
        "          break\n",
        "    height,width=imgAC.shape[0],imgAC.shape[1]\n",
        "    for i in range(height, stopindex, step):\n",
        "      for j in range(width, stopindex, step):\n",
        "        cl=imgAC[i-1,j-1]\n",
        "        if np.array_equal(cl,px):\n",
        "          xaxis1=j\n",
        "          break\n",
        "      if np.array_equal(cl,px):\n",
        "          yaxis1=i\n",
        "          break\n",
        "    # print('titik putih paling bawah dari gambar:',yaxis1)\n",
        "    # print('titik putih paling atas dari gambar :',yaxis)\n",
        "    # print('            tinggi daun             :',yaxis1-yaxis)\n",
        "    nilaidatasetCB2[count1]=yaxis1-yaxis\n",
        "    count1=count1+1\n",
        "    count2=count2+1\n",
        "    # print(count1)\n",
        "print('tinggi pada setiap gambar daun Callicarpa_Bodinieri: ',nilaidatasetCB2)"
      ],
      "metadata": {
        "colab": {
          "base_uri": "https://localhost:8080/"
        },
        "id": "YDNpf6wpX1wE",
        "outputId": "14ffd9e5-6ef8-4bc5-8b9e-f053b0cb34e3"
      },
      "execution_count": 23,
      "outputs": [
        {
          "output_type": "stream",
          "name": "stdout",
          "text": [
            "tinggi pada setiap gambar daun Callicarpa_Bodinieri:  [254, 291, 281, 295, 279, 252, 245, 266, 263, 260, 257, 277, 268, 258, 294, 270]\n"
          ]
        }
      ]
    },
    {
      "cell_type": "code",
      "source": [
        "count1=0\n",
        "count2=-1\n",
        "for ac in datasetAC:\n",
        "  datasetAC=pathCA[count2]\n",
        "  if count1<16:\n",
        "    imgAC=cv.imread('/content/drive/MyDrive/Kuliah/Semester 6/PCVK/Final_Project/Leaf Images 03/Callicarpa_Bodinieri/'+datasetAC)\n",
        "    gray_img = cv.cvtColor(imgAC, cv.COLOR_BGR2GRAY)\n",
        "    for y in range(imgAC.shape[1]):\n",
        "      for x in range(imgAC.shape[0]):\n",
        "        cl=imgAC[x,y]\n",
        "        xaxis=x\n",
        "        if np.array_equal(cl,px):\n",
        "          break\n",
        "      yaxis=y\n",
        "      if np.array_equal(cl,px):\n",
        "          break\n",
        "    height,width=imgAC.shape[0],imgAC.shape[1]\n",
        "    for i in range(width, stopindex, step):\n",
        "      for j in range(height, stopindex, step):\n",
        "        cl=imgAC[j-1,i-1]\n",
        "        if np.array_equal(cl,px):\n",
        "          xaxis1=j\n",
        "          break\n",
        "      if np.array_equal(cl,px):\n",
        "          yaxis1=i\n",
        "          break\n",
        "    # print('titik putih paling bawah dari gambar:',yaxis1)\n",
        "    # print('titik putih paling atas dari gambar :',yaxis)\n",
        "    # print('            tinggi daun             :',yaxis1-yaxis)\n",
        "    nilaidatasetCB3[count1]=yaxis1-yaxis\n",
        "    count1=count1+1\n",
        "    count2=count2+1\n",
        "    # print(count1)\n",
        "print('lebar pada setiap gambar daun Callicarpa_Bodinieri: ',nilaidatasetCB3)"
      ],
      "metadata": {
        "colab": {
          "base_uri": "https://localhost:8080/"
        },
        "id": "9wp159hFY3Te",
        "outputId": "5314639c-88ec-4e13-bc22-43044df37b68"
      },
      "execution_count": 24,
      "outputs": [
        {
          "output_type": "stream",
          "name": "stdout",
          "text": [
            "lebar pada setiap gambar daun Callicarpa_Bodinieri:  [855, 826, 757, 780, 780, 834, 826, 794, 845, 879, 863, 780, 812, 831, 722, 881]\n"
          ]
        }
      ]
    },
    {
      "cell_type": "code",
      "source": [
        "print('jumlah titik pada setiap gambar daun Callicarpa_Bodinieri: ',nilaidatasetCB1)\n",
        "print('tinggi pada setiap gambar daun Callicarpa_Bodinieri: ',nilaidatasetCB2)\n",
        "print('lebar pada setiap gambar daun Callicarpa_Bodinieri: ',nilaidatasetCB3)"
      ],
      "metadata": {
        "colab": {
          "base_uri": "https://localhost:8080/"
        },
        "id": "WPMA5bzUZSVo",
        "outputId": "c4e2ca4d-2726-44cd-85f4-0acd75ee0baf"
      },
      "execution_count": 25,
      "outputs": [
        {
          "output_type": "stream",
          "name": "stdout",
          "text": [
            "jumlah titik pada setiap gambar daun Callicarpa_Bodinieri:  [125, 118, 113, 120, 119, 132, 125, 122, 118, 124, 125, 118, 124, 122, 113, 129]\n",
            "tinggi pada setiap gambar daun Callicarpa_Bodinieri:  [254, 291, 281, 295, 279, 252, 245, 266, 263, 260, 257, 277, 268, 258, 294, 270]\n",
            "lebar pada setiap gambar daun Callicarpa_Bodinieri:  [855, 826, 757, 780, 780, 834, 826, 794, 845, 879, 863, 780, 812, 831, 722, 881]\n"
          ]
        }
      ]
    },
    {
      "cell_type": "code",
      "source": [
        "dtsetAC = np.stack((nilaidatasetAC1, nilaidatasetAC2,nilaidatasetAC3), axis=1)\n",
        "df=pd.DataFrame(dtsetAC, columns=['jumlah titik','tinggi daun','Lebar'])\n",
        "print('Data set yang digunakan pada daun Acer_Rufinerve\\n')\n",
        "print(df)"
      ],
      "metadata": {
        "colab": {
          "base_uri": "https://localhost:8080/"
        },
        "id": "_ieQiTDbLlmX",
        "outputId": "c0e7e216-9428-4ad6-bab7-ec9e6b957045"
      },
      "execution_count": 26,
      "outputs": [
        {
          "output_type": "stream",
          "name": "stdout",
          "text": [
            "Data set yang digunakan pada daun Acer_Rufinerve\n",
            "\n",
            "    jumlah titik  tinggi daun  Lebar\n",
            "0            191          866    751\n",
            "1            175          699    744\n",
            "2            172          728    671\n",
            "3            134          613    539\n",
            "4            153          692    617\n",
            "5            167          744    673\n",
            "6            177          806    693\n",
            "7            183          810    730\n",
            "8            180          769    764\n",
            "9            181          745    756\n",
            "10           157          705    633\n",
            "11           185          771    740\n",
            "12           158          743    621\n",
            "13           185          734    722\n",
            "14           157          734    618\n",
            "15           156          699    621\n"
          ]
        }
      ]
    },
    {
      "cell_type": "code",
      "source": [
        "dtsetAL = np.stack((nilaidatasetCA1, nilaidatasetCA2,nilaidatasetAC2), axis=1)\n",
        "df=pd.DataFrame(dtsetAL, columns=['jumlah titik','tinggi daun','lebar'])\n",
        "print('Data set yang digunakan pada daun Alnus_Rubra\\n')\n",
        "print(df)"
      ],
      "metadata": {
        "colab": {
          "base_uri": "https://localhost:8080/"
        },
        "id": "-MjejLhtLlXo",
        "outputId": "10d4dfe4-43bb-4d46-83ff-adfea15fbea8"
      },
      "execution_count": 27,
      "outputs": [
        {
          "output_type": "stream",
          "name": "stdout",
          "text": [
            "Data set yang digunakan pada daun Alnus_Rubra\n",
            "\n",
            "    jumlah titik  tinggi daun  lebar\n",
            "0            132          754    866\n",
            "1            140          687    699\n",
            "2            138          674    728\n",
            "3            134          639    613\n",
            "4            133          642    692\n",
            "5            143          673    744\n",
            "6            126          638    806\n",
            "7            154          719    810\n",
            "8            119          612    769\n",
            "9            141          728    745\n",
            "10           133          748    705\n",
            "11           177          873    771\n",
            "12           129          667    743\n",
            "13           153          794    734\n",
            "14           145          752    734\n",
            "15           120          631    699\n"
          ]
        }
      ]
    },
    {
      "cell_type": "code",
      "source": [
        "dtsetCB = np.stack((nilaidatasetCB1, nilaidatasetCB2,nilaidatasetCB3), axis=1)\n",
        "df=pd.DataFrame(dtsetCB, columns=['jumlah titik','tinggi daun','lebar'])\n",
        "print('Data set yang digunakan pada daun Callicarpa_Bodinieri\\n')\n",
        "print(df)"
      ],
      "metadata": {
        "colab": {
          "base_uri": "https://localhost:8080/"
        },
        "id": "RGQYG-pPZ1d1",
        "outputId": "07e69676-faac-46bf-97bf-4c7554d9f672"
      },
      "execution_count": 28,
      "outputs": [
        {
          "output_type": "stream",
          "name": "stdout",
          "text": [
            "Data set yang digunakan pada daun Callicarpa_Bodinieri\n",
            "\n",
            "    jumlah titik  tinggi daun  lebar\n",
            "0            125          254    855\n",
            "1            118          291    826\n",
            "2            113          281    757\n",
            "3            120          295    780\n",
            "4            119          279    780\n",
            "5            132          252    834\n",
            "6            125          245    826\n",
            "7            122          266    794\n",
            "8            118          263    845\n",
            "9            124          260    879\n",
            "10           125          257    863\n",
            "11           118          277    780\n",
            "12           124          268    812\n",
            "13           122          258    831\n",
            "14           113          294    722\n",
            "15           129          270    881\n"
          ]
        }
      ]
    },
    {
      "cell_type": "code",
      "source": [
        "# membuat ketentuan jenis daun \n",
        "# dengan mengubah nilai dari daun acer menjadi 0 alnus menjadi 1 dan callicarpa 2\n",
        "nilaidatasetAC=[0,0,0,0,0,0,0,0,0,0,0,0,0,0,0,0]\n",
        "nilaidatasetAL=[1,1,1,1,1,1,1,1,1,1,1,1,1,1,1,1]\n",
        "nilaidatasetCB=[2,2,2,2,2,2,2,2,2,2,2,2,2,2,2,2]\n",
        "\n",
        "dtsetAC1 = np.stack((nilaidatasetAC1, nilaidatasetAC2,nilaidatasetAC3,nilaidatasetAC), axis=1)\n",
        "dtsetAL1 = np.stack((nilaidatasetCA1, nilaidatasetCA2,nilaidatasetAC2,nilaidatasetAL), axis=1)\n",
        "dtsetCB1 = np.stack((nilaidatasetCB1, nilaidatasetCB2,nilaidatasetCB3,nilaidatasetCB), axis=1)\n",
        "\n",
        "# menjadikan 1 dataset\n",
        "\n",
        "x_AC_AL_CB = np.concatenate((dtsetAC, dtsetAL,dtsetCB))\n",
        "y_AC_AL_CB = np.concatenate((nilaidatasetAC, nilaidatasetAL,nilaidatasetCB))\n",
        "x_AC_AL_CB1 = np.concatenate((dtsetAC1, dtsetAL1,dtsetCB1))\n",
        "df=pd.DataFrame(x_AC_AL_CB1, columns=['jumlah titik','tinggi daun','lebar','jenis daun'])\n",
        "print('                 Dataset Gabungan')\n",
        "print('nilai 0 untuk jenis daun acer 1 untuk alnus dan 2 untuk callicarpa\\n')\n",
        "print(df)"
      ],
      "metadata": {
        "colab": {
          "base_uri": "https://localhost:8080/"
        },
        "id": "7CY7wY05JFaB",
        "outputId": "9d789d56-060d-40b9-922f-fa0d91e9273f"
      },
      "execution_count": 29,
      "outputs": [
        {
          "output_type": "stream",
          "name": "stdout",
          "text": [
            "                 Dataset Gabungan\n",
            "nilai 0 untuk jenis daun acer 1 untuk alnus dan 2 untuk callicarpa\n",
            "\n",
            "    jumlah titik  tinggi daun  lebar  jenis daun\n",
            "0            191          866    751           0\n",
            "1            175          699    744           0\n",
            "2            172          728    671           0\n",
            "3            134          613    539           0\n",
            "4            153          692    617           0\n",
            "5            167          744    673           0\n",
            "6            177          806    693           0\n",
            "7            183          810    730           0\n",
            "8            180          769    764           0\n",
            "9            181          745    756           0\n",
            "10           157          705    633           0\n",
            "11           185          771    740           0\n",
            "12           158          743    621           0\n",
            "13           185          734    722           0\n",
            "14           157          734    618           0\n",
            "15           156          699    621           0\n",
            "16           132          754    866           1\n",
            "17           140          687    699           1\n",
            "18           138          674    728           1\n",
            "19           134          639    613           1\n",
            "20           133          642    692           1\n",
            "21           143          673    744           1\n",
            "22           126          638    806           1\n",
            "23           154          719    810           1\n",
            "24           119          612    769           1\n",
            "25           141          728    745           1\n",
            "26           133          748    705           1\n",
            "27           177          873    771           1\n",
            "28           129          667    743           1\n",
            "29           153          794    734           1\n",
            "30           145          752    734           1\n",
            "31           120          631    699           1\n",
            "32           125          254    855           2\n",
            "33           118          291    826           2\n",
            "34           113          281    757           2\n",
            "35           120          295    780           2\n",
            "36           119          279    780           2\n",
            "37           132          252    834           2\n",
            "38           125          245    826           2\n",
            "39           122          266    794           2\n",
            "40           118          263    845           2\n",
            "41           124          260    879           2\n",
            "42           125          257    863           2\n",
            "43           118          277    780           2\n",
            "44           124          268    812           2\n",
            "45           122          258    831           2\n",
            "46           113          294    722           2\n",
            "47           129          270    881           2\n"
          ]
        }
      ]
    },
    {
      "cell_type": "code",
      "source": [
        "from sklearn.model_selection import train_test_split\n",
        "from sklearn.neighbors import KNeighborsClassifier"
      ],
      "metadata": {
        "id": "JKFBEM2nOLK_"
      },
      "execution_count": 30,
      "outputs": []
    },
    {
      "cell_type": "code",
      "source": [
        "#Membagi data train dan data test\n",
        "X_train,X_test,y_train,y_test=train_test_split(x_AC_AL_CB,y_AC_AL_CB,test_size=0.8,random_state=10)"
      ],
      "metadata": {
        "id": "kz0KTs27QI-5"
      },
      "execution_count": 31,
      "outputs": []
    },
    {
      "cell_type": "code",
      "source": [
        "#Classifier menggunakan 2 data yang terdekat\n",
        "KNN=KNeighborsClassifier(n_neighbors=3)\n",
        "#learning menggunakan data train\n",
        "KNN.fit(X_train,y_train)"
      ],
      "metadata": {
        "colab": {
          "base_uri": "https://localhost:8080/"
        },
        "id": "_SZsYLtsQCfo",
        "outputId": "35d6b6d3-1691-4367-ad39-c0f39735ff2d"
      },
      "execution_count": 80,
      "outputs": [
        {
          "output_type": "execute_result",
          "data": {
            "text/plain": [
              "KNeighborsClassifier(n_neighbors=3)"
            ]
          },
          "metadata": {},
          "execution_count": 80
        }
      ]
    },
    {
      "cell_type": "code",
      "source": [
        "#preticting X_test\n",
        "y_predict=KNN.predict(X_test)\n",
        "y_predict"
      ],
      "metadata": {
        "colab": {
          "base_uri": "https://localhost:8080/"
        },
        "id": "LZMk8ApeTnGW",
        "outputId": "cddfc83b-14da-48bc-adcd-ea844e634d5c"
      },
      "execution_count": 33,
      "outputs": [
        {
          "output_type": "execute_result",
          "data": {
            "text/plain": [
              "array([2, 0, 2, 2, 2, 0, 0, 1, 0, 0, 2, 0, 2, 2, 0, 1, 2, 0, 1, 1, 0, 0,\n",
              "       2, 2, 1, 0, 0, 1, 0, 1, 0, 0, 2, 1, 0, 0, 2, 2, 2])"
            ]
          },
          "metadata": {},
          "execution_count": 33
        }
      ]
    },
    {
      "cell_type": "code",
      "source": [
        "y_test"
      ],
      "metadata": {
        "colab": {
          "base_uri": "https://localhost:8080/"
        },
        "id": "z4klg-OGT1i4",
        "outputId": "6e70c8ba-1735-4576-da28-0cab7e3b0a67"
      },
      "execution_count": 34,
      "outputs": [
        {
          "output_type": "execute_result",
          "data": {
            "text/plain": [
              "array([2, 1, 2, 2, 2, 1, 0, 1, 0, 0, 2, 0, 2, 2, 0, 1, 2, 1, 1, 1, 0, 0,\n",
              "       2, 2, 1, 0, 0, 1, 1, 1, 0, 0, 2, 1, 0, 1, 2, 2, 2])"
            ]
          },
          "metadata": {},
          "execution_count": 34
        }
      ]
    },
    {
      "cell_type": "code",
      "source": [
        "print(f\"Akurasi dari model knn: {np.mean(y_predict==y_test)}\")"
      ],
      "metadata": {
        "colab": {
          "base_uri": "https://localhost:8080/"
        },
        "id": "jjbfrq-uT4_4",
        "outputId": "207c0276-8743-4785-ba7c-4a1e6b3423c1"
      },
      "execution_count": 35,
      "outputs": [
        {
          "output_type": "stream",
          "name": "stdout",
          "text": [
            "Akurasi dari model knn: 0.8717948717948718\n"
          ]
        }
      ]
    },
    {
      "cell_type": "code",
      "source": [
        "from google.colab import files\n",
        "from tensorflow.keras.preprocessing import image\n",
        "\n",
        "uploaded=files.upload()\n"
      ],
      "metadata": {
        "id": "38F8oeGRS-yH"
      },
      "execution_count": null,
      "outputs": []
    },
    {
      "cell_type": "code",
      "source": [
        "\n",
        "for fn in uploaded.keys():\n",
        "  path = fn\n",
        "  input1 = image.load_img(path)\n",
        "  input = np.array(input)\n",
        "  plt.imshow(input)\n",
        "  stopindex=0\n",
        "  step=-1\n",
        "  xaxis1=0\n",
        "  yaxis1=0\n",
        "  axaxis1=0\n",
        "  ayaxis1=0\n",
        "  nilaiFitur=[[0,0,0]]\n",
        "  gray_img = cv.cvtColor(input, cv.COLOR_RGB2GRAY)\n",
        "  corners = cv.goodFeaturesToTrack(gray_img, 1000,0.01,10) \n",
        "  corners = np. int0(corners)\n",
        "  count=0\n",
        "  for i in corners:\n",
        "    count=count+1\n",
        "    x,y = i.ravel() \n",
        "    cv.circle(gray_img, (x,y),3,255,2)\n",
        "  nilaiFitur[[0]]=count\n",
        "  print('jumlah titik pada setiap gambar daun Acer_Rufinerve: ',nilaiFitur[[0]])\n",
        "  yaxis=0\n",
        "  xaxis=0\n",
        "  height,width=gray_img.shape[0],gray_img.shape[1]\n",
        "  px=imRGB[400,400]\n",
        "  print(px)\n",
        "  plt.imshow(imRGB)\n",
        "  for y in range(gray_img.shape[0]):\n",
        "    for x in range(gray_img.shape[1]):\n",
        "      cl=gray_img[y,x]\n",
        "      xaxis=x\n",
        "      if np.array_equal(cl,px):\n",
        "        break\n",
        "    yaxis=y\n",
        "    if np.array_equal(cl,px):\n",
        "        break\n",
        "  print('titik putih paling atas ditemukan pada titik: ',yaxis)\n",
        "  ayaxis=0\n",
        "  axaxis=0\n",
        "  for x in range(gray_img.shape[1]):\n",
        "    ayaxis=0\n",
        "    for y in range(gray_img.shape[0]):\n",
        "      cl=gray_img[y,x]\n",
        "      ayaxis=y\n",
        "      if np.array_equal(cl,px):\n",
        "        break\n",
        "    axaxis=x\n",
        "    if np.array_equal(cl,px):\n",
        "        break\n",
        "  print('titik putih paling kiri ditemukan pada titik: ',axaxis)\n",
        "  for i in range(height, stopindex, step):\n",
        "    for j in range(width, stopindex, step):\n",
        "      cl=gray_img[i-1,j-1]\n",
        "      if np.array_equal(cl,px):\n",
        "        xaxis1=j\n",
        "        break\n",
        "    if np.array_equal(cl,px):\n",
        "        yaxis1=i\n",
        "        break\n",
        "  print('titik putih paling bawah dari gambar:',yaxis1)\n",
        "  for i in range(width, stopindex, step):\n",
        "    for j in range(height, stopindex, step):\n",
        "      cl=gray_img[j-1,i-1]\n",
        "      if np.array_equal(cl,px):\n",
        "        ayaxis1=j\n",
        "        break\n",
        "    if np.array_equal(cl,px):\n",
        "        axaxis1=i\n",
        "        break\n",
        "  print('titik putih paling kanan dari gambar:',axaxis1)\n",
        "  tinggi=yaxis1-yaxis\n",
        "  lebar=axaxis1-axaxis\n",
        "  print('tinggi:',tinggi)\n",
        "  print('lebar: ',lebar)\n",
        "  #predicting\n",
        "  y_predict=KNN.predict(nilaiFitur)\n",
        "  print(y_predict)"
      ],
      "metadata": {
        "colab": {
          "base_uri": "https://localhost:8080/",
          "height": 487
        },
        "id": "cxwfMhD4ULYe",
        "outputId": "89d4bf03-dc20-4942-9857-6d86e37e27b8"
      },
      "execution_count": 58,
      "outputs": [
        {
          "output_type": "error",
          "ename": "TypeError",
          "evalue": "ignored",
          "traceback": [
            "\u001b[0;31m---------------------------------------------------------------------------\u001b[0m",
            "\u001b[0;31mTypeError\u001b[0m                                 Traceback (most recent call last)",
            "\u001b[0;32m<ipython-input-58-fd14940c464b>\u001b[0m in \u001b[0;36m<module>\u001b[0;34m()\u001b[0m\n\u001b[1;32m     20\u001b[0m     \u001b[0mx\u001b[0m\u001b[0;34m,\u001b[0m\u001b[0my\u001b[0m \u001b[0;34m=\u001b[0m \u001b[0mi\u001b[0m\u001b[0;34m.\u001b[0m\u001b[0mravel\u001b[0m\u001b[0;34m(\u001b[0m\u001b[0;34m)\u001b[0m\u001b[0;34m\u001b[0m\u001b[0;34m\u001b[0m\u001b[0m\n\u001b[1;32m     21\u001b[0m     \u001b[0mcv\u001b[0m\u001b[0;34m.\u001b[0m\u001b[0mcircle\u001b[0m\u001b[0;34m(\u001b[0m\u001b[0mgray_img\u001b[0m\u001b[0;34m,\u001b[0m \u001b[0;34m(\u001b[0m\u001b[0mx\u001b[0m\u001b[0;34m,\u001b[0m\u001b[0my\u001b[0m\u001b[0;34m)\u001b[0m\u001b[0;34m,\u001b[0m\u001b[0;36m3\u001b[0m\u001b[0;34m,\u001b[0m\u001b[0;36m255\u001b[0m\u001b[0;34m,\u001b[0m\u001b[0;36m2\u001b[0m\u001b[0;34m)\u001b[0m\u001b[0;34m\u001b[0m\u001b[0;34m\u001b[0m\u001b[0m\n\u001b[0;32m---> 22\u001b[0;31m   \u001b[0mnilaiFitur\u001b[0m\u001b[0;34m[\u001b[0m\u001b[0;34m[\u001b[0m\u001b[0;36m0\u001b[0m\u001b[0;34m]\u001b[0m\u001b[0;34m]\u001b[0m\u001b[0;34m=\u001b[0m\u001b[0mcount\u001b[0m\u001b[0;34m\u001b[0m\u001b[0;34m\u001b[0m\u001b[0m\n\u001b[0m\u001b[1;32m     23\u001b[0m   \u001b[0mprint\u001b[0m\u001b[0;34m(\u001b[0m\u001b[0;34m'jumlah titik pada setiap gambar daun Acer_Rufinerve: '\u001b[0m\u001b[0;34m,\u001b[0m\u001b[0mnilaiFitur\u001b[0m\u001b[0;34m[\u001b[0m\u001b[0;34m[\u001b[0m\u001b[0;36m0\u001b[0m\u001b[0;34m]\u001b[0m\u001b[0;34m]\u001b[0m\u001b[0;34m)\u001b[0m\u001b[0;34m\u001b[0m\u001b[0;34m\u001b[0m\u001b[0m\n\u001b[1;32m     24\u001b[0m   \u001b[0myaxis\u001b[0m\u001b[0;34m=\u001b[0m\u001b[0;36m0\u001b[0m\u001b[0;34m\u001b[0m\u001b[0;34m\u001b[0m\u001b[0m\n",
            "\u001b[0;31mTypeError\u001b[0m: list indices must be integers or slices, not list"
          ]
        },
        {
          "output_type": "display_data",
          "data": {
            "text/plain": [
              "<Figure size 432x288 with 1 Axes>"
            ],
            "image/png": "[encoded data removed]"
          },
          "metadata": {
            "needs_background": "light"
          }
        }
      ]
    },
    {
      "cell_type": "code",
      "source": [
        "stopindex=0\n",
        "step=-1\n",
        "yaxis=0\n",
        "xaxis=0\n",
        "ayaxis=0\n",
        "axaxis=0\n",
        "xaxis1=0\n",
        "yaxis1=0\n",
        "axaxis1=0\n",
        "ayaxis1=0\n",
        "nilaiFitur1=[0]\n",
        "nilaiFitur2=[0]\n",
        "nilaiFitur3=[0]\n",
        "input = cv.imread('/content/drive/MyDrive/Kuliah/Semester 6/PCVK/Final_Project/Leaf Images 03/Alnus_Rubra/Alnus_Rubra_06.ab.jpg') \n",
        "gray_img = cv.cvtColor(input, cv.COLOR_BGR2GRAY)\n",
        "corners = cv.goodFeaturesToTrack(gray_img, 1000,0.01,10) \n",
        "corners = np. int0(corners)\n",
        "count=0\n",
        "for i in corners:\n",
        "  count=count+1\n",
        "  x,y = i.ravel() \n",
        "  cv.circle(gray_img, (x,y),3,255,2)\n",
        "nilaiFitur1[0]=count\n",
        "print('jumlah titik pada setiap gambar daun: ',nilaiFitur1[0])\n",
        "gray_img = cv.cvtColor(input, cv.COLOR_BGR2RGB)\n",
        "height,width=gray_img.shape[0],gray_img.shape[1]\n",
        "plt.imshow(input)\n",
        "for y in range(gray_img.shape[0]):\n",
        "  for x in range(gray_img.shape[1]):\n",
        "    cl=gray_img[y,x]\n",
        "    xaxis=x\n",
        "    if np.array_equal(cl,px):\n",
        "      break\n",
        "  yaxis=y\n",
        "  if np.array_equal(cl,px):\n",
        "      break\n",
        "print('titik putih paling atas ditemukan pada titik: ',yaxis)\n",
        "for x in range(gray_img.shape[1]):\n",
        "  ayaxis=0\n",
        "  for y in range(gray_img.shape[0]):\n",
        "    cl=gray_img[y,x]\n",
        "    ayaxis=y\n",
        "    if np.array_equal(cl,px):\n",
        "      break\n",
        "  axaxis=x\n",
        "  if np.array_equal(cl,px):\n",
        "      break\n",
        "print('titik putih paling kiri ditemukan pada titik: ',axaxis)\n",
        "for i in range(height, stopindex, step):\n",
        "  for j in range(width, stopindex, step):\n",
        "    cl=gray_img[i-1,j-1]\n",
        "    if np.array_equal(cl,px):\n",
        "      xaxis1=j\n",
        "      break\n",
        "  if np.array_equal(cl,px):\n",
        "      yaxis1=i\n",
        "      break\n",
        "print('titik putih paling bawah dari gambar:',yaxis1)\n",
        "for i in range(width, stopindex, step):\n",
        "  for j in range(height, stopindex, step):\n",
        "    cl=gray_img[j-1,i-1]\n",
        "    if np.array_equal(cl,px):\n",
        "      ayaxis1=j\n",
        "      break\n",
        "  if np.array_equal(cl,px):\n",
        "      axaxis1=i\n",
        "      break\n",
        "print('titik putih paling kanan dari gambar:',axaxis1)\n",
        "tinggi=yaxis1-yaxis\n",
        "lebar=axaxis1-axaxis\n",
        "nilaiFitur2[0]=tinggi\n",
        "nilaiFitur3[0]=lebar\n",
        "nilaifitur = np.stack((nilaiFitur1, nilaiFitur2,nilaiFitur3), axis=1)\n",
        "print('tinggi:',tinggi)\n",
        "print('lebar: ',lebar)\n",
        "print('nilai fitur:',nilaifitur)\n",
        "#predicting\n",
        "y_predict=KNN.predict(nilaifitur)\n",
        "acer=[0,]\n",
        "alnus=[1,]\n",
        "callicarpa=[2,]\n",
        "print(y_predict)\n",
        "if np.array_equal(y_predict,acer):\n",
        "  print('Acer_Rufinerve')\n",
        "if np.array_equal(y_predict,alnus):\n",
        "  print('Alnus_Rubra  ')\n",
        "if np.array_equal(y_predict,callicarpa):\n",
        "  print('Callicarpa_Bodinieri')"
      ],
      "metadata": {
        "colab": {
          "base_uri": "https://localhost:8080/",
          "height": 443
        },
        "id": "K4RxwjBKNmOn",
        "outputId": "0204ec8d-6e17-4d34-b07d-e30424c020c4"
      },
      "execution_count": 83,
      "outputs": [
        {
          "output_type": "stream",
          "name": "stdout",
          "text": [
            "jumlah titik pada setiap gambar daun:  126\n",
            "titik putih paling atas ditemukan pada titik:  32\n",
            "titik putih paling kiri ditemukan pada titik:  27\n",
            "titik putih paling bawah dari gambar: 670\n",
            "titik putih paling kanan dari gambar: 453\n",
            "tinggi: 638\n",
            "lebar:  426\n",
            "nilai fitur: [[126 638 426]]\n",
            "[1]\n",
            "Alnus_Rubra  \n"
          ]
        },
        {
          "output_type": "display_data",
          "data": {
            "text/plain": [
              "<Figure size 432x288 with 1 Axes>"
            ],
            "image/png": "[encoded data removed]"
          },
          "metadata": {
            "needs_background": "light"
          }
        }
      ]
    },
    {
      "cell_type": "code",
      "source": [
        ""
      ],
      "metadata": {
        "id": "QNV3eKIXZFKF"
      },
      "execution_count": null,
      "outputs": []
    }
  ]
}