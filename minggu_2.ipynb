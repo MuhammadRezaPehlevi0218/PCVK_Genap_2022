{
  "nbformat": 4,
  "nbformat_minor": 0,
  "metadata": {
    "colab": {
      "name": "minggu 2.ipynb",
      "provenance": [],
      "authorship_tag": "ABX9TyPxl//A9eVHuESK5cb5VD6H",
      "include_colab_link": true
    },
    "kernelspec": {
      "name": "python3",
      "display_name": "Python 3"
    },
    "language_info": {
      "name": "python"
    }
  },
  "cells": [
    {
      "cell_type": "markdown",
      "metadata": {
        "id": "view-in-github",
        "colab_type": "text"
      },
      "source": [
        "<a href=\"https://colab.research.google.com/github/MuhammadRezaPehlevi0218/PCVK_Genap_2022/blob/main/minggu_2.ipynb\" target=\"_parent\"><img src=\"https://colab.research.google.com/assets/colab-badge.svg\" alt=\"Open In Colab\"/></a>"
      ]
    },
    {
      "cell_type": "code",
      "execution_count": null,
      "metadata": {
        "id": "6CGYQ-VVQ5xb"
      },
      "outputs": [],
      "source": [
        ""
      ]
    }
  ]
}